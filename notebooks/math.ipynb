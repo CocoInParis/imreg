{
 "metadata": {
  "name": "math"
 },
 "nbformat": 3,
 "nbformat_minor": 0,
 "worksheets": [
  {
   "cells": [
    {
     "cell_type": "markdown",
     "metadata": {},
     "source": [
      "Sympy to calculate partial derivatives\n",
      "======================================"
     ]
    },
    {
     "cell_type": "code",
     "collapsed": false,
     "input": [
      "from sympy import Symbol, symbols, Matrix, diff, expand"
     ],
     "language": "python",
     "metadata": {},
     "outputs": [],
     "prompt_number": 1
    },
    {
     "cell_type": "code",
     "collapsed": false,
     "input": [
      "x, y = symbols('x,y')"
     ],
     "language": "python",
     "metadata": {},
     "outputs": [],
     "prompt_number": 2
    },
    {
     "cell_type": "code",
     "collapsed": false,
     "input": [
      "p0,p1,p2,p3,p4,p5,p6,p7 = symbols('p0,p1,p2,p3,p4,p5,p6,p7')"
     ],
     "language": "python",
     "metadata": {},
     "outputs": [],
     "prompt_number": 3
    },
    {
     "cell_type": "code",
     "collapsed": false,
     "input": [
      "H = Matrix([(p0+1,p3,p6), (p1,p4+1,p7), (p2,p5,1.0)])\n",
      "P = Matrix([(x),(y),(1.0)])\n",
      "H"
     ],
     "language": "python",
     "metadata": {},
     "outputs": [
      {
       "output_type": "pyout",
       "prompt_number": 20,
       "text": [
        "[p0 + 1,     p3,  p6]\n",
        "[    p1, p4 + 1,  p7]\n",
        "[    p2,     p5, 1.0]"
       ]
      }
     ],
     "prompt_number": 20
    },
    {
     "cell_type": "code",
     "collapsed": false,
     "input": [
      "equations = H*P"
     ],
     "language": "python",
     "metadata": {},
     "outputs": [],
     "prompt_number": 21
    },
    {
     "cell_type": "code",
     "collapsed": false,
     "input": [
      "equations"
     ],
     "language": "python",
     "metadata": {},
     "outputs": [
      {
       "output_type": "pyout",
       "prompt_number": 22,
       "text": [
        "[p3*y + 1.0*p6 + x*(p0 + 1)]\n",
        "[p1*x + 1.0*p7 + y*(p4 + 1)]\n",
        "[         p2*x + p5*y + 1.0]"
       ]
      }
     ],
     "prompt_number": 22
    },
    {
     "cell_type": "code",
     "collapsed": false,
     "input": [
      "xequation = equations[0] / equations[2]"
     ],
     "language": "python",
     "metadata": {},
     "outputs": [],
     "prompt_number": 23
    },
    {
     "cell_type": "code",
     "collapsed": false,
     "input": [
      "yequation = equations[1] / equations[2]"
     ],
     "language": "python",
     "metadata": {},
     "outputs": [],
     "prompt_number": 25
    },
    {
     "cell_type": "markdown",
     "metadata": {},
     "source": [
      "Formulate equations for partial derivatives:"
     ]
    },
    {
     "cell_type": "code",
     "collapsed": false,
     "input": [
      "for var in (p0,p1,p2,p3,p4,p5,p6,p7):\n",
      "    eq = diff(xequation, var)\n",
      "    print '{}: {}'.format(var, eq)"
     ],
     "language": "python",
     "metadata": {},
     "outputs": [
      {
       "output_type": "stream",
       "stream": "stdout",
       "text": [
        "p0: x/(p2*x + p5*y + 1.0)\n",
        "p1: 0\n",
        "p2: -x*(p3*y + 1.0*p6 + x*(p0 + 1))/(p2*x + p5*y + 1.0)**2\n",
        "p3: y/(p2*x + p5*y + 1.0)\n",
        "p4: 0\n",
        "p5: -y*(p3*y + 1.0*p6 + x*(p0 + 1))/(p2*x + p5*y + 1.0)**2\n",
        "p6: 1.0/(p2*x + p5*y + 1.0)\n",
        "p7: 0\n"
       ]
      }
     ],
     "prompt_number": 29
    },
    {
     "cell_type": "code",
     "collapsed": false,
     "input": [
      "for var in (p0,p1,p2,p3,p4,p5,p6,p7):\n",
      "    eq = diff(yequation, var)\n",
      "    print '{}: {}'.format(var, eq)"
     ],
     "language": "python",
     "metadata": {},
     "outputs": [
      {
       "output_type": "stream",
       "stream": "stdout",
       "text": [
        "p0: 0\n",
        "p1: x/(p2*x + p5*y + 1.0)\n",
        "p2: -x*(p1*x + 1.0*p7 + y*(p4 + 1))/(p2*x + p5*y + 1.0)**2\n",
        "p3: 0\n",
        "p4: y/(p2*x + p5*y + 1.0)\n",
        "p5: -y*(p1*x + 1.0*p7 + y*(p4 + 1))/(p2*x + p5*y + 1.0)**2\n",
        "p6: 0\n",
        "p7: 1.0/(p2*x + p5*y + 1.0)\n"
       ]
      }
     ],
     "prompt_number": 30
    },
    {
     "cell_type": "code",
     "collapsed": false,
     "input": [],
     "language": "python",
     "metadata": {},
     "outputs": []
    }
   ],
   "metadata": {}
  }
 ]
}